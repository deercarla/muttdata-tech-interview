{
 "cells": [
  {
   "metadata": {},
   "cell_type": "markdown",
   "source": [
    "# Task 3\n",
    "In this notebook you will find the sql queries necessary for the task 3.\n",
    "\n",
    "For the completion of this task, two methods were added to the PGConnector class."
   ],
   "id": "68e6123b147187db"
  },
  {
   "metadata": {
    "ExecuteTime": {
     "end_time": "2024-11-02T12:13:03.315088Z",
     "start_time": "2024-11-02T12:13:02.994004Z"
    }
   },
   "cell_type": "code",
   "source": [
    "#External imports\n",
    "import os\n",
    "\n",
    "#Internal imports\n",
    "from src.PGConnector.pgconnector import PGConnector"
   ],
   "id": "aa82487ba4deeed6",
   "outputs": [],
   "execution_count": 1
  },
  {
   "metadata": {},
   "cell_type": "markdown",
   "source": [
    "Establishing connection: \n",
    "\n",
    "(create_database not necessary if you have already created it)"
   ],
   "id": "1bb4d7c1c6800b10"
  },
  {
   "metadata": {
    "ExecuteTime": {
     "end_time": "2024-11-02T12:13:04.728445Z",
     "start_time": "2024-11-02T12:13:04.664107Z"
    }
   },
   "cell_type": "code",
   "source": [
    "connector = PGConnector('coin_data')\n",
    "connector.create_database()\n",
    "connector.connect()"
   ],
   "id": "140438f87949bf8d",
   "outputs": [
    {
     "name": "stderr",
     "output_type": "stream",
     "text": [
      "INFO:src.PGConnector.pgconnector:Database coin_data already exists\n",
      "INFO:src.PGConnector.pgconnector:Successfully connected to database coin_data\n"
     ]
    }
   ],
   "execution_count": 2
  },
  {
   "metadata": {},
   "cell_type": "markdown",
   "source": "Execute the coin_data.sql to set up the table and insert data",
   "id": "fafdac95dafa3691"
  },
  {
   "metadata": {
    "ExecuteTime": {
     "end_time": "2024-11-02T12:13:07.104807Z",
     "start_time": "2024-11-02T12:13:07.038497Z"
    }
   },
   "cell_type": "code",
   "source": [
    "sql_file_path = os.path.abspath(os.path.join(os.getcwd(), '..','..', 'data', 'coin_data.sql'))\n",
    "connector.execute_sql_file(sql_file_path)"
   ],
   "id": "94a47522778fd2a5",
   "outputs": [
    {
     "name": "stderr",
     "output_type": "stream",
     "text": [
      "ERROR:src.PGConnector.pgconnector:Error executing SQL file: relation \"coin_data\" already exists\n",
      "\n"
     ]
    }
   ],
   "execution_count": 3
  },
  {
   "metadata": {},
   "cell_type": "markdown",
   "source": [
    " ### Example queries\n",
    "Query for all coin data. Data is returned as a dataframe for simplicity."
   ],
   "id": "9d3793d4f74582e9"
  },
  {
   "metadata": {
    "ExecuteTime": {
     "end_time": "2024-11-02T12:13:08.795036Z",
     "start_time": "2024-11-02T12:13:08.702875Z"
    }
   },
   "cell_type": "code",
   "source": [
    "all_data = connector.query_coin_data(\"SELECT * FROM coin_data\")  \n",
    "print(\"All data:\", all_data)"
   ],
   "id": "19ea8e0dc39f2064",
   "outputs": [
    {
     "name": "stdout",
     "output_type": "stream",
     "text": [
      "All data:         coin        date         price  \\\n",
      "0    bitcoin  2021-01-01  29022.418395   \n",
      "1    bitcoin  2021-01-02  29352.126792   \n",
      "2    bitcoin  2021-01-03  32163.824935   \n",
      "3    bitcoin  2021-01-04  33008.226203   \n",
      "4    bitcoin  2021-01-05  31515.575967   \n",
      "..       ...         ...           ...   \n",
      "814  cardano  2021-09-26      2.311934   \n",
      "815  cardano  2021-09-27      2.212884   \n",
      "816  cardano  2021-09-28      2.138879   \n",
      "817  cardano  2021-09-29      2.037869   \n",
      "818  cardano  2021-09-30      2.058527   \n",
      "\n",
      "                                                  json  \n",
      "0    {'id': 'bitcoin', 'symbol': 'btc', 'name': 'Bi...  \n",
      "1    {'id': 'bitcoin', 'symbol': 'btc', 'name': 'Bi...  \n",
      "2    {'id': 'bitcoin', 'symbol': 'btc', 'name': 'Bi...  \n",
      "3    {'id': 'bitcoin', 'symbol': 'btc', 'name': 'Bi...  \n",
      "4    {'id': 'bitcoin', 'symbol': 'btc', 'name': 'Bi...  \n",
      "..                                                 ...  \n",
      "814  {'id': 'cardano', 'symbol': 'ada', 'name': 'Ca...  \n",
      "815  {'id': 'cardano', 'symbol': 'ada', 'name': 'Ca...  \n",
      "816  {'id': 'cardano', 'symbol': 'ada', 'name': 'Ca...  \n",
      "817  {'id': 'cardano', 'symbol': 'ada', 'name': 'Ca...  \n",
      "818  {'id': 'cardano', 'symbol': 'ada', 'name': 'Ca...  \n",
      "\n",
      "[819 rows x 4 columns]\n"
     ]
    },
    {
     "name": "stderr",
     "output_type": "stream",
     "text": [
      "C:\\Users\\Carla\\Desktop\\Carla--de-Erausquin\\src\\PGConnector\\pgconnector.py:208: UserWarning: pandas only supports SQLAlchemy connectable (engine/connection) or database string URI or sqlite3 DBAPI2 connection. Other DBAPI2 objects are not tested. Please consider using SQLAlchemy.\n",
      "  df = pd.read_sql(query, self.connection)\n"
     ]
    }
   ],
   "execution_count": 4
  },
  {
   "metadata": {},
   "cell_type": "markdown",
   "source": [
    "### Question 1:\n",
    " Get the average price for each coin by month\n"
   ],
   "id": "60538213f5ce40fc"
  },
  {
   "metadata": {
    "ExecuteTime": {
     "end_time": "2024-11-02T12:13:10.851345Z",
     "start_time": "2024-11-02T12:13:10.848440Z"
    }
   },
   "cell_type": "code",
   "source": [
    "sql_query_1 = \"\"\"\n",
    "    SELECT coin, DATE_TRUNC('month', date) AS month, AVG(price) AS average_price\n",
    "    FROM coin_data\n",
    "    GROUP BY coin, DATE_TRUNC('month', date)\n",
    "    ORDER BY coin, month;\"\"\""
   ],
   "id": "9593cca588b557c7",
   "outputs": [],
   "execution_count": 5
  },
  {
   "metadata": {
    "ExecuteTime": {
     "end_time": "2024-11-02T12:13:12.716570Z",
     "start_time": "2024-11-02T12:13:12.695013Z"
    }
   },
   "cell_type": "code",
   "source": [
    "task_1 = connector.query_coin_data(sql_query_1)  \n",
    "print(\"Task 1 result: \\n\", task_1)"
   ],
   "id": "9d639016516d8605",
   "outputs": [
    {
     "name": "stdout",
     "output_type": "stream",
     "text": [
      "Task 1 result: \n",
      "         coin                     month  average_price\n",
      "0    bitcoin 2021-01-01 03:00:00+00:00   34634.243110\n",
      "1    bitcoin 2021-02-01 03:00:00+00:00   45897.949050\n",
      "2    bitcoin 2021-03-01 03:00:00+00:00   54532.805249\n",
      "3    bitcoin 2021-04-01 03:00:00+00:00   57148.237151\n",
      "4    bitcoin 2021-05-01 03:00:00+00:00   47187.714790\n",
      "5    bitcoin 2021-06-01 03:00:00+00:00   35973.744469\n",
      "6    bitcoin 2021-07-01 03:00:00+00:00   34271.528139\n",
      "7    bitcoin 2021-08-01 03:00:00+00:00   45563.673526\n",
      "8    bitcoin 2021-09-01 03:00:00+00:00   46085.361452\n",
      "9    cardano 2021-01-01 03:00:00+00:00       0.308016\n",
      "10   cardano 2021-02-01 03:00:00+00:00       0.831580\n",
      "11   cardano 2021-03-01 03:00:00+00:00       1.173164\n",
      "12   cardano 2021-04-01 03:00:00+00:00       1.252436\n",
      "13   cardano 2021-05-01 03:00:00+00:00       1.644268\n",
      "14   cardano 2021-06-01 03:00:00+00:00       1.492185\n",
      "15   cardano 2021-07-01 03:00:00+00:00       1.285418\n",
      "16   cardano 2021-08-01 03:00:00+00:00       2.063807\n",
      "17   cardano 2021-09-01 03:00:00+00:00       2.455569\n",
      "18  ethereum 2021-01-01 03:00:00+00:00    1183.870953\n",
      "19  ethereum 2021-02-01 03:00:00+00:00    1697.467398\n",
      "20  ethereum 2021-03-01 03:00:00+00:00    1721.393703\n",
      "21  ethereum 2021-04-01 03:00:00+00:00    2267.642987\n",
      "22  ethereum 2021-05-01 03:00:00+00:00    3154.503868\n",
      "23  ethereum 2021-06-01 03:00:00+00:00    2353.004752\n",
      "24  ethereum 2021-07-01 03:00:00+00:00    2126.662470\n",
      "25  ethereum 2021-08-01 03:00:00+00:00    3070.152877\n",
      "26  ethereum 2021-09-01 03:00:00+00:00    3352.656358\n"
     ]
    },
    {
     "name": "stderr",
     "output_type": "stream",
     "text": [
      "C:\\Users\\Carla\\Desktop\\Carla--de-Erausquin\\src\\PGConnector\\pgconnector.py:208: UserWarning: pandas only supports SQLAlchemy connectable (engine/connection) or database string URI or sqlite3 DBAPI2 connection. Other DBAPI2 objects are not tested. Please consider using SQLAlchemy.\n",
      "  df = pd.read_sql(query, self.connection)\n"
     ]
    }
   ],
   "execution_count": 6
  },
  {
   "metadata": {},
   "cell_type": "markdown",
   "source": [
    "### Question 2:\n",
    " Calculate for each coin, on average, how much its price has increased after it had\n",
    "dropped consecutively for more than 3 days. In the same result set include the\n",
    "current market cap in USD (obtainable from the JSON-typed column). Use any time\n",
    "span that you find best\n"
   ],
   "id": "1343a4d3daab36d1"
  },
  {
   "metadata": {
    "ExecuteTime": {
     "end_time": "2024-10-31T18:53:40.843316Z",
     "start_time": "2024-10-31T18:53:40.840627Z"
    }
   },
   "cell_type": "code",
   "source": [
    "sql_query_2 = \"\"\"\n",
    "WITH price_changes AS (\n",
    "    SELECT coin, date, price, json->'market_data'->'market_cap'->>'usd' AS market_cap_usd, LAG(price) OVER (PARTITION BY coin ORDER BY date) AS prev_price\n",
    "    FROM coin_data\n",
    "),\n",
    "drop_sequences AS (\n",
    "    SELECT coin, date, price, market_cap_usd,\n",
    "        CASE WHEN price < prev_price THEN 1 ELSE 0 END AS is_drop,\n",
    "        SUM(CASE WHEN price < prev_price THEN 0 ELSE 1 END) OVER (PARTITION BY coin ORDER BY date) AS group_id\n",
    "    FROM price_changes\n",
    "    WHERE prev_price IS NOT NULL\n",
    "),\n",
    "consecutive_drops AS (\n",
    "    SELECT coin, date, price, market_cap_usd, group_id, COUNT(*) OVER (PARTITION BY coin, group_id) AS drop_streak\n",
    "    FROM drop_sequences\n",
    "    WHERE is_drop = 1\n",
    "),\n",
    "next_day_prices AS (\n",
    "    SELECT cd.coin, cd.date AS drop_end_date, cd.price AS drop_end_price, cd.market_cap_usd, LEAD(cd2.price) OVER (PARTITION BY cd.coin ORDER BY cd.date) AS next_day_price\n",
    "    FROM consecutive_drops cd\n",
    "    LEFT JOIN coin_data cd2 ON cd.coin = cd2.coin \n",
    "        AND cd2.date = cd.date + INTERVAL '1 day'\n",
    "    WHERE cd.drop_streak >= 3\n",
    ")\n",
    "SELECT coin, AVG((next_day_price - drop_end_price) / drop_end_price * 100) AS avg_price_increase_pct, MAX(market_cap_usd) AS current_market_cap_usd\n",
    "    FROM next_day_prices\n",
    "    WHERE next_day_price IS NOT NULL\n",
    "    GROUP BY coin\n",
    "    ORDER BY avg_price_increase_pct DESC;\n",
    "\"\"\""
   ],
   "id": "ef7da218cef60b3c",
   "outputs": [],
   "execution_count": 22
  },
  {
   "metadata": {
    "ExecuteTime": {
     "end_time": "2024-10-31T18:53:41.361236Z",
     "start_time": "2024-10-31T18:53:41.325175Z"
    }
   },
   "cell_type": "code",
   "source": [
    "task_2 = connector.query_coin_data(sql_query_2)  \n",
    "print(\"Task 2 result: \\n\", task_2)"
   ],
   "id": "1eb4fa9d51e4c2fd",
   "outputs": [
    {
     "name": "stdout",
     "output_type": "stream",
     "text": [
      "Task 2 result: \n",
      "        coin  avg_price_increase_pct current_market_cap_usd\n",
      "0  ethereum                4.052652     425715131137.06134\n",
      "1   cardano                4.046532       9653513519.30118\n",
      "2   bitcoin               -0.847851       971174701492.849\n"
     ]
    },
    {
     "name": "stderr",
     "output_type": "stream",
     "text": [
      "C:\\Users\\Carla\\Desktop\\Carla--de-Erausquin\\src\\PGConnector\\pgconnector.py:223: UserWarning: pandas only supports SQLAlchemy connectable (engine/connection) or database string URI or sqlite3 DBAPI2 connection. Other DBAPI2 objects are not tested. Please consider using SQLAlchemy.\n",
      "  df = pd.read_sql(query, self.connection)\n"
     ]
    }
   ],
   "execution_count": 23
  },
  {
   "metadata": {},
   "cell_type": "markdown",
   "source": " Where MAX() is used because when we're grouping by coin, we want to show a representative market cap value for each cryptocurrency and I believe the most current/largest market cap is most relevant for analysis.",
   "id": "2d1bf85ffcfdedb0"
  },
  {
   "metadata": {},
   "cell_type": "code",
   "outputs": [],
   "execution_count": null,
   "source": "",
   "id": "5c486d71471faae0"
  }
 ],
 "metadata": {
  "kernelspec": {
   "display_name": "Python 3",
   "language": "python",
   "name": "python3"
  },
  "language_info": {
   "codemirror_mode": {
    "name": "ipython",
    "version": 2
   },
   "file_extension": ".py",
   "mimetype": "text/x-python",
   "name": "python",
   "nbconvert_exporter": "python",
   "pygments_lexer": "ipython2",
   "version": "2.7.6"
  }
 },
 "nbformat": 4,
 "nbformat_minor": 5
}
